{
 "cells": [
  {
   "cell_type": "code",
   "execution_count": 1,
   "id": "6c6d5627-b3e1-4a58-9f82-7fcf324d7473",
   "metadata": {},
   "outputs": [],
   "source": [
    "import pandas as pd"
   ]
  },
  {
   "cell_type": "code",
   "execution_count": 2,
   "id": "f7bc0fd3-bcf0-4b54-bcef-02248df6aabc",
   "metadata": {},
   "outputs": [],
   "source": [
    "df = pd.read_csv('challenge_dataset.csv')"
   ]
  },
  {
   "cell_type": "code",
   "execution_count": 3,
   "id": "d61f06d1-62f7-48a2-913c-4265d88e9bea",
   "metadata": {},
   "outputs": [
    {
     "data": {
      "text/plain": [
       "(11390, 7)"
      ]
     },
     "execution_count": 3,
     "metadata": {},
     "output_type": "execute_result"
    }
   ],
   "source": [
    "df.shape"
   ]
  },
  {
   "cell_type": "code",
   "execution_count": 4,
   "id": "d12e9e12-bc2e-4bb2-89f0-8609d34b1c5c",
   "metadata": {},
   "outputs": [
    {
     "data": {
      "text/html": [
       "<div>\n",
       "<style scoped>\n",
       "    .dataframe tbody tr th:only-of-type {\n",
       "        vertical-align: middle;\n",
       "    }\n",
       "\n",
       "    .dataframe tbody tr th {\n",
       "        vertical-align: top;\n",
       "    }\n",
       "\n",
       "    .dataframe thead th {\n",
       "        text-align: right;\n",
       "    }\n",
       "</style>\n",
       "<table border=\"1\" class=\"dataframe\">\n",
       "  <thead>\n",
       "    <tr style=\"text-align: right;\">\n",
       "      <th></th>\n",
       "      <th>date</th>\n",
       "      <th>app_id</th>\n",
       "      <th>country</th>\n",
       "      <th>platform</th>\n",
       "      <th>media_source</th>\n",
       "      <th>spend</th>\n",
       "      <th>target_event_count</th>\n",
       "    </tr>\n",
       "  </thead>\n",
       "  <tbody>\n",
       "    <tr>\n",
       "      <th>0</th>\n",
       "      <td>2021-07-13</td>\n",
       "      <td>0</td>\n",
       "      <td>AR</td>\n",
       "      <td>android</td>\n",
       "      <td>appreciate</td>\n",
       "      <td>380.247</td>\n",
       "      <td>68</td>\n",
       "    </tr>\n",
       "    <tr>\n",
       "      <th>1</th>\n",
       "      <td>2021-07-18</td>\n",
       "      <td>0</td>\n",
       "      <td>MX</td>\n",
       "      <td>android</td>\n",
       "      <td>remerge</td>\n",
       "      <td>289.968</td>\n",
       "      <td>24</td>\n",
       "    </tr>\n",
       "    <tr>\n",
       "      <th>2</th>\n",
       "      <td>2021-06-10</td>\n",
       "      <td>0</td>\n",
       "      <td>AR</td>\n",
       "      <td>android</td>\n",
       "      <td>ironsource</td>\n",
       "      <td>157.003</td>\n",
       "      <td>12</td>\n",
       "    </tr>\n",
       "    <tr>\n",
       "      <th>3</th>\n",
       "      <td>2021-07-28</td>\n",
       "      <td>0</td>\n",
       "      <td>AR</td>\n",
       "      <td>android</td>\n",
       "      <td>ironsource</td>\n",
       "      <td>86.184</td>\n",
       "      <td>13</td>\n",
       "    </tr>\n",
       "    <tr>\n",
       "      <th>4</th>\n",
       "      <td>2021-07-11</td>\n",
       "      <td>0</td>\n",
       "      <td>MX</td>\n",
       "      <td>android</td>\n",
       "      <td>bytedanceglobal</td>\n",
       "      <td>673.771</td>\n",
       "      <td>54</td>\n",
       "    </tr>\n",
       "  </tbody>\n",
       "</table>\n",
       "</div>"
      ],
      "text/plain": [
       "         date  app_id country platform     media_source    spend  \\\n",
       "0  2021-07-13       0      AR  android       appreciate  380.247   \n",
       "1  2021-07-18       0      MX  android          remerge  289.968   \n",
       "2  2021-06-10       0      AR  android       ironsource  157.003   \n",
       "3  2021-07-28       0      AR  android       ironsource   86.184   \n",
       "4  2021-07-11       0      MX  android  bytedanceglobal  673.771   \n",
       "\n",
       "   target_event_count  \n",
       "0                  68  \n",
       "1                  24  \n",
       "2                  12  \n",
       "3                  13  \n",
       "4                  54  "
      ]
     },
     "execution_count": 4,
     "metadata": {},
     "output_type": "execute_result"
    }
   ],
   "source": [
    "df.head() #diagrama de dispersion de media source y plataforma viendo el spend de esos eventos, y entre country plataforma y media source \n",
    "#usar k means para agrupar / knn vecinos mas cercanos\n",
    "#hacer una serie de tiempo\n",
    "#una regresion "
   ]
  },
  {
   "cell_type": "raw",
   "id": "25d74d43-da11-48e7-98c7-3e804ccf371c",
   "metadata": {},
   "source": [
    "contiene la información de las inversiones en diversas campañas de marketing para varios clientes.\n",
    "\n",
    "Este contiene los costos diarios de cada campaña, y los eventos obtenidos en cada una de ellas.\n",
    "\n",
    "Te pedimos entrenar un modelo predictivo que estime la cantidad de eventos obtenidos.\n",
    "\n",
    "\n",
    "El dataset poseé las siguientes columnas:\n",
    "\n",
    "date\n",
    "\n",
    "date associated to the campaign report\n",
    "\n",
    "app_id\n",
    "\n",
    "customer unique ID\n",
    "\n",
    "country\n",
    "\n",
    "target country associated to the campaign\n",
    "\n",
    "platform\n",
    "\n",
    "platform where the client sends traffic to (web, android, iOS, etc)\n",
    "\n",
    "media_source\n",
    "\n",
    "channel where the campaign is running (facebook, google, others)\n",
    "\n",
    "spend\n",
    "\n",
    "amount of investment for that day on the specific campaign in USD\n",
    "\n",
    "target_event_count\n",
    "\n",
    "volume of events obtained by the campaign investment associated to that date\n",
    "\n"
   ]
  },
  {
   "cell_type": "code",
   "execution_count": null,
   "id": "dff6f3a1-17e6-491b-aca1-298c1473aea8",
   "metadata": {},
   "outputs": [],
   "source": []
  }
 ],
 "metadata": {
  "kernelspec": {
   "display_name": "Python 3",
   "language": "python",
   "name": "python3"
  },
  "language_info": {
   "codemirror_mode": {
    "name": "ipython",
    "version": 3
   },
   "file_extension": ".py",
   "mimetype": "text/x-python",
   "name": "python",
   "nbconvert_exporter": "python",
   "pygments_lexer": "ipython3",
   "version": "3.8.8"
  }
 },
 "nbformat": 4,
 "nbformat_minor": 5
}
